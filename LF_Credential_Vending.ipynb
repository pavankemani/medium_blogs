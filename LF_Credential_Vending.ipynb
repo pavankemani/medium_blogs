{
	"metadata": {
		"kernelspec": {
			"name": "glue_pyspark",
			"display_name": "Glue PySpark",
			"language": "python"
		},
		"language_info": {
			"name": "Python_Glue_Session",
			"mimetype": "text/x-python",
			"codemirror_mode": {
				"name": "python",
				"version": 3
			},
			"pygments_lexer": "python3",
			"file_extension": ".py"
		}
	},
	"nbformat_minor": 4,
	"nbformat": 4,
	"cells": [
		{
			"cell_type": "markdown",
			"source": "# AWS Glue Studio Notebook\n##### You are now running a AWS Glue Studio notebook; To start using your notebook you need to start an AWS Glue Interactive Session.\n",
			"metadata": {
				"editable": true,
				"trusted": true
			}
		},
		{
			"cell_type": "markdown",
			"source": "#### Optional: Run this cell to see available notebook commands (\"magics\").\n",
			"metadata": {
				"editable": true,
				"trusted": true
			}
		},
		{
			"cell_type": "markdown",
			"source": "####  Run this cell to set up and start your interactive session.\n",
			"metadata": {
				"editable": true,
				"trusted": true
			}
		},
		{
			"cell_type": "code",
			"source": "%idle_timeout 60\n%glue_version 4.0\n%worker_type G.1X\n%number_of_workers 2",
			"metadata": {},
			"execution_count": null,
			"outputs": []
		},
		{
			"cell_type": "code",
			"source": "import boto3\n\nclient = boto3.client('lakeformation')\nresponse = client.get_temporary_glue_table_credentials(\n    TableArn = 'arn:aws:glue:us-east-1:<account-id>:table/lf_credential_vending/lf_creds',\n    Permissions = ['ALL'],\n    SupportedPermissionTypes=['COLUMN_PERMISSION']\n)\n\nprint(response)",
			"metadata": {
				"trusted": true,
				"tags": []
			},
			"execution_count": 6,
			"outputs": [
				{
					"name": "stdout",
					"text": "\n",
					"output_type": "stream"
				}
			]
		},
		{
			"cell_type": "code",
			"source": "# Extract the temporary credentials\naccess_key = response['AccessKeyId']\nsecret_key = response['SecretAccessKey']\nsession_token = response['SessionToken']\n\n# Create an S3 client using the temporary credentials\ns3_client = boto3.client(\n    's3',\n    aws_access_key_id=access_key,\n    aws_secret_access_key=secret_key,\n    aws_session_token=session_token\n)",
			"metadata": {
				"trusted": true,
				"tags": []
			},
			"execution_count": 3,
			"outputs": [
				{
					"name": "stdout",
					"text": "\n",
					"output_type": "stream"
				}
			]
		},
		{
			"cell_type": "code",
			"source": "# Step 2: Specify the data to upload, and the target S3 bucket and object key\nfile_data = b'Hello, this is a test file.'  # Data to upload (in bytes)\nbucket_name = 'bucket-name' # Replace bucket name\nobject_key = 'lf_credential_vending/lf_creds/testfile.txt'  # S3 object key\n\n# Step 3: Upload the data to S3\ns3_client.put_object(Body=file_data, Bucket=bucket_name, Key=object_key)\n\nprint(f\"Data uploaded to bucket {bucket_name} as {object_key}.\")",
			"metadata": {},
			"execution_count": null,
			"outputs": []
		},
		{
			"cell_type": "code",
			"source": "# Step 3: Specify the data to upload, and the target S3 bucket and object key in a different prefix\nfile_data = b'Hello, this is a test file.'  # Data to upload (in bytes)\nbucket_name = 'bucket-name' # Replace bucket name\nobject_key = 'lf_credential_vending/lf_creds_new/testfile.txt'  # S3 object key\n\n# Step 3: Upload the data to S3\ns3_client.put_object(Body=file_data, Bucket=bucket_name, Key=object_key)\n\nprint(f\"Data uploaded to bucket {bucket_name} as {object_key}.\")",
			"metadata": {},
			"execution_count": null,
			"outputs": []
		}
	]
}